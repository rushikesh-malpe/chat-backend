{
 "cells": [
  {
   "cell_type": "code",
   "execution_count": 1,
   "metadata": {},
   "outputs": [
    {
     "name": "stdout",
     "output_type": "stream",
     "text": [
      "Base32 Secret: HC3Y2SZ342SDR2II2UBPGAV3TI======\n"
     ]
    }
   ],
   "source": [
    "import os\n",
    "import base64\n",
    "\n",
    "def generate_base32_secret(length=16):\n",
    "    # Generate random bytes\n",
    "    random_bytes = os.urandom(length)\n",
    "    \n",
    "    # Encode in Base32\n",
    "    base32_secret = base64.b32encode(random_bytes).decode('utf-8')\n",
    "    \n",
    "    return base32_secret\n",
    "\n",
    "# Generate a Base32 secret\n",
    "secret = generate_base32_secret()\n",
    "print(\"Base32 Secret:\", secret)\n"
   ]
  }
 ],
 "metadata": {
  "kernelspec": {
   "display_name": "whatsapp",
   "language": "python",
   "name": "python3"
  },
  "language_info": {
   "codemirror_mode": {
    "name": "ipython",
    "version": 3
   },
   "file_extension": ".py",
   "mimetype": "text/x-python",
   "name": "python",
   "nbconvert_exporter": "python",
   "pygments_lexer": "ipython3",
   "version": "3.10.15"
  }
 },
 "nbformat": 4,
 "nbformat_minor": 2
}
